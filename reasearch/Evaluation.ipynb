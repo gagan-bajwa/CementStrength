{
 "cells": [
  {
   "cell_type": "markdown",
   "metadata": {},
   "source": [
    "# Evaluation"
   ]
  },
  {
   "cell_type": "code",
   "execution_count": 1,
   "metadata": {},
   "outputs": [],
   "source": [
    "import os\n",
    "os.chdir('../')"
   ]
  },
  {
   "cell_type": "code",
   "execution_count": 3,
   "metadata": {},
   "outputs": [],
   "source": [
    "from dataclasses import dataclass\n",
    "from pathlib import Path"
   ]
  },
  {
   "cell_type": "code",
   "execution_count": 101,
   "metadata": {},
   "outputs": [],
   "source": [
    "@dataclass(frozen=True)\n",
    "class EvaluationConfig:\n",
    "    test_data: Path\n",
    "    #scores: Path"
   ]
  },
  {
   "cell_type": "code",
   "execution_count": 102,
   "metadata": {},
   "outputs": [],
   "source": [
    "from CementStrength.utils import read_yaml,create_directories\n",
    "#from CementStrength.entity import DataIngestionConfig,DataValidationConfig,DbOperationsConfig,TrainingConfig,EvaluationConfig\n",
    "from CementStrength.constants import *\n",
    "\n",
    "\n",
    "\n",
    "\n",
    "\n",
    "class ConfigurationManager:\n",
    "    \n",
    "    def __init__(self, \n",
    "        config_file= CONFIG_FILE_PATH,\n",
    "        param_file = PARAMS_FILE_PATH):\n",
    "\n",
    "        self.config_file = read_yaml(config_file)\n",
    "        self.param_file = read_yaml(param_file)\n",
    "\n",
    "    def get_evaluation_config(self) -> EvaluationConfig:\n",
    "                       \n",
    "        evaluation_config = EvaluationConfig(\n",
    "                  test_data= self.config_file.test_data,\n",
    "                  #scores= self.config_file.scores\n",
    "                  \n",
    "                           \n",
    "                  )\n",
    "        return evaluation_config"
   ]
  },
  {
   "cell_type": "code",
   "execution_count": 103,
   "metadata": {},
   "outputs": [],
   "source": [
    "from CementStrength.utils import load_model\n",
    "import pandas as pd\n",
    "from sklearn.preprocessing import StandardScaler\n",
    "from sklearn.metrics import r2_score\n",
    "\n",
    "\n",
    "class Evaluation:\n",
    "\n",
    "    def __init__(self,config: EvaluationConfig):\n",
    "        self.config = config\n",
    "\n",
    "    def evaluate(self):\n",
    "        X_test = pd.read_csv(os.path.join(self.config.test_data,'test_data_featues.csv'))\n",
    "        y_test = pd.read_csv(os.path.join(self.config.test_data,'test_data_labels.csv'))\n",
    "        scaler = StandardScaler()\n",
    "        X_test_scaled = pd.DataFrame(scaler.fit_transform(X_test),columns=X_test.columns,index=X_test.index)\n",
    "        cluster_model = load_model('cluster_model',os.path.join('Training','models'))\n",
    "        prediction_cluster_model = cluster_model.predict(X_test_scaled)\n",
    "        X_test_scaled['cluster'] = pd.Series(prediction_cluster_model, index=X_test_scaled.index) #cluster column added\n",
    "        dfs=[X_test_scaled[X_test_scaled['cluster']==i] for i in range(len(set(prediction_cluster_model)))]\n",
    "        for i in range(len(dfs)):\n",
    "            dfs[i] = dfs[i].drop(columns='cluster')\n",
    "        y_clusterwise = [y_test.loc[dfs[i].index] for i in range(len(dfs))]\n",
    "        cluster0_model = load_model('random_model_cluster0',os.path.join('Training','models'))\n",
    "        cluster1_model = load_model('random_model_cluster1',os.path.join('Training','models'))\n",
    "        cluster2_model = load_model('random_model_cluster2',os.path.join('Training','models'))\n",
    "        cluster3_model = load_model('random_model_cluster3',os.path.join('Training','models'))\n",
    "        prediction_cluster_0 = cluster0_model.predict(dfs[0])\n",
    "        score_cluster_0 = r2_score(y_clusterwise[0],prediction_cluster_0)\n",
    "        prediction_cluster_1 = cluster1_model.predict(dfs[1])\n",
    "        score_cluster_1 = r2_score(y_clusterwise[1],prediction_cluster_1)\n",
    "        prediction_cluster_2 = cluster2_model.predict(dfs[2])\n",
    "        score_cluster_2 = r2_score(y_clusterwise[2],prediction_cluster_2)\n",
    "        prediction_cluster_3 = cluster3_model.predict(dfs[3])\n",
    "        score_cluster_3 = r2_score(y_clusterwise[3],prediction_cluster_3)\n",
    "        scores = {'r2_score0':score_cluster_0,'r2_score1':score_cluster_1,'r2_score2':score_cluster_2,'r2_score3':score_cluster_3}\n",
    "        save_json(path=Path(\"scores.json\"),data=scores)\n",
    "        \n",
    "        "
   ]
  },
  {
   "cell_type": "code",
   "execution_count": 99,
   "metadata": {},
   "outputs": [
    {
     "ename": "ImportError",
     "evalue": "cannot import name 'save_json' from 'CementStrength.utils' (c:\\users\\gagan\\documents\\projects\\cementstrength\\src\\CementStrength\\utils\\__init__.py)",
     "output_type": "error",
     "traceback": [
      "\u001b[1;31m---------------------------------------------------------------------------\u001b[0m",
      "\u001b[1;31mImportError\u001b[0m                               Traceback (most recent call last)",
      "\u001b[1;32mc:\\Users\\gagan\\Documents\\projects\\CementStrength\\reasearch\\Evaluation.ipynb Cell 7\u001b[0m line \u001b[0;36m1\n\u001b[1;32m----> <a href='vscode-notebook-cell:/c%3A/Users/gagan/Documents/projects/CementStrength/reasearch/Evaluation.ipynb#X11sZmlsZQ%3D%3D?line=0'>1</a>\u001b[0m \u001b[39mfrom\u001b[39;00m \u001b[39mCementStrength\u001b[39;00m\u001b[39m.\u001b[39;00m\u001b[39mutils\u001b[39;00m \u001b[39mimport\u001b[39;00m save_json\n",
      "\u001b[1;31mImportError\u001b[0m: cannot import name 'save_json' from 'CementStrength.utils' (c:\\users\\gagan\\documents\\projects\\cementstrength\\src\\CementStrength\\utils\\__init__.py)"
     ]
    }
   ],
   "source": [
    "from CementStrength.utils import save_json"
   ]
  },
  {
   "cell_type": "markdown",
   "metadata": {},
   "source": [
    "import json\n",
    "def save_json(path: Path, data: dict):\n",
    "    with open(path, \"w\") as f:\n",
    "        json.dump(data, f, indent=4)\n",
    "\n",
    "    #logger.info(f\"json file saved at: {path}\")"
   ]
  },
  {
   "cell_type": "code",
   "execution_count": 104,
   "metadata": {},
   "outputs": [
    {
     "name": "stdout",
     "output_type": "stream",
     "text": [
      "[2023-11-17 12:46:22,008: INFO: common: yaml file: config\\config.yml loaded successfully]\n",
      "[2023-11-17 12:46:22,010: INFO: common: yaml file: params.yml loaded successfully]\n"
     ]
    },
    {
     "ename": "BoxKeyError",
     "evalue": "\"'Box' object has no attribute 'test_data'\"",
     "output_type": "error",
     "traceback": [
      "\u001b[1;31m---------------------------------------------------------------------------\u001b[0m",
      "\u001b[1;31mKeyError\u001b[0m                                  Traceback (most recent call last)",
      "File \u001b[1;32mc:\\Users\\gagan\\Anaconda3\\envs\\cementnew\\lib\\site-packages\\box\\box.py:503\u001b[0m, in \u001b[0;36mbox.box.Box.__getitem__\u001b[1;34m()\u001b[0m\n",
      "\u001b[1;31mKeyError\u001b[0m: 'test_data'",
      "\nThe above exception was the direct cause of the following exception:\n",
      "\u001b[1;31mBoxKeyError\u001b[0m                               Traceback (most recent call last)",
      "File \u001b[1;32mc:\\Users\\gagan\\Anaconda3\\envs\\cementnew\\lib\\site-packages\\box\\box.py:536\u001b[0m, in \u001b[0;36mbox.box.Box.__getattr__\u001b[1;34m()\u001b[0m\n",
      "File \u001b[1;32mc:\\Users\\gagan\\Anaconda3\\envs\\cementnew\\lib\\site-packages\\box\\box.py:524\u001b[0m, in \u001b[0;36mbox.box.Box.__getitem__\u001b[1;34m()\u001b[0m\n",
      "\u001b[1;31mBoxKeyError\u001b[0m: \"'test_data'\"",
      "\nDuring handling of the above exception, another exception occurred:\n",
      "\u001b[1;31mAttributeError\u001b[0m                            Traceback (most recent call last)",
      "File \u001b[1;32mc:\\Users\\gagan\\Anaconda3\\envs\\cementnew\\lib\\site-packages\\box\\box.py:538\u001b[0m, in \u001b[0;36mbox.box.Box.__getattr__\u001b[1;34m()\u001b[0m\n",
      "\u001b[1;31mAttributeError\u001b[0m: 'Box' object has no attribute 'test_data'",
      "\nThe above exception was the direct cause of the following exception:\n",
      "\u001b[1;31mBoxKeyError\u001b[0m                               Traceback (most recent call last)",
      "\u001b[1;32mc:\\Users\\gagan\\Documents\\projects\\CementStrength\\reasearch\\Evaluation.ipynb Cell 9\u001b[0m line \u001b[0;36m2\n\u001b[0;32m      <a href='vscode-notebook-cell:/c%3A/Users/gagan/Documents/projects/CementStrength/reasearch/Evaluation.ipynb#X53sZmlsZQ%3D%3D?line=0'>1</a>\u001b[0m configs \u001b[39m=\u001b[39m ConfigurationManager()\n\u001b[1;32m----> <a href='vscode-notebook-cell:/c%3A/Users/gagan/Documents/projects/CementStrength/reasearch/Evaluation.ipynb#X53sZmlsZQ%3D%3D?line=1'>2</a>\u001b[0m eval_configs \u001b[39m=\u001b[39mconfigs\u001b[39m.\u001b[39;49mget_evaluation_config()\n\u001b[0;32m      <a href='vscode-notebook-cell:/c%3A/Users/gagan/Documents/projects/CementStrength/reasearch/Evaluation.ipynb#X53sZmlsZQ%3D%3D?line=2'>3</a>\u001b[0m eval_ob \u001b[39m=\u001b[39m Evaluation()\n\u001b[0;32m      <a href='vscode-notebook-cell:/c%3A/Users/gagan/Documents/projects/CementStrength/reasearch/Evaluation.ipynb#X53sZmlsZQ%3D%3D?line=3'>4</a>\u001b[0m eval_ob\u001b[39m.\u001b[39mevaluate()\n",
      "\u001b[1;32mc:\\Users\\gagan\\Documents\\projects\\CementStrength\\reasearch\\Evaluation.ipynb Cell 9\u001b[0m line \u001b[0;36m2\n\u001b[0;32m     <a href='vscode-notebook-cell:/c%3A/Users/gagan/Documents/projects/CementStrength/reasearch/Evaluation.ipynb#X53sZmlsZQ%3D%3D?line=17'>18</a>\u001b[0m \u001b[39mdef\u001b[39;00m \u001b[39mget_evaluation_config\u001b[39m(\u001b[39mself\u001b[39m) \u001b[39m-\u001b[39m\u001b[39m>\u001b[39m EvaluationConfig:\n\u001b[0;32m     <a href='vscode-notebook-cell:/c%3A/Users/gagan/Documents/projects/CementStrength/reasearch/Evaluation.ipynb#X53sZmlsZQ%3D%3D?line=19'>20</a>\u001b[0m     evaluation_config \u001b[39m=\u001b[39m EvaluationConfig(\n\u001b[1;32m---> <a href='vscode-notebook-cell:/c%3A/Users/gagan/Documents/projects/CementStrength/reasearch/Evaluation.ipynb#X53sZmlsZQ%3D%3D?line=20'>21</a>\u001b[0m               test_data\u001b[39m=\u001b[39m \u001b[39mself\u001b[39;49m\u001b[39m.\u001b[39;49mconfig_file\u001b[39m.\u001b[39;49mtest_data,\n\u001b[0;32m     <a href='vscode-notebook-cell:/c%3A/Users/gagan/Documents/projects/CementStrength/reasearch/Evaluation.ipynb#X53sZmlsZQ%3D%3D?line=21'>22</a>\u001b[0m               \u001b[39m#scores= self.config_file.scores\u001b[39;00m\n\u001b[0;32m     <a href='vscode-notebook-cell:/c%3A/Users/gagan/Documents/projects/CementStrength/reasearch/Evaluation.ipynb#X53sZmlsZQ%3D%3D?line=22'>23</a>\u001b[0m               \n\u001b[0;32m     <a href='vscode-notebook-cell:/c%3A/Users/gagan/Documents/projects/CementStrength/reasearch/Evaluation.ipynb#X53sZmlsZQ%3D%3D?line=23'>24</a>\u001b[0m                        \n\u001b[0;32m     <a href='vscode-notebook-cell:/c%3A/Users/gagan/Documents/projects/CementStrength/reasearch/Evaluation.ipynb#X53sZmlsZQ%3D%3D?line=24'>25</a>\u001b[0m               )\n\u001b[0;32m     <a href='vscode-notebook-cell:/c%3A/Users/gagan/Documents/projects/CementStrength/reasearch/Evaluation.ipynb#X53sZmlsZQ%3D%3D?line=25'>26</a>\u001b[0m     \u001b[39mreturn\u001b[39;00m evaluation_config\n",
      "File \u001b[1;32mc:\\Users\\gagan\\Anaconda3\\envs\\cementnew\\lib\\site-packages\\box\\box.py:552\u001b[0m, in \u001b[0;36mbox.box.Box.__getattr__\u001b[1;34m()\u001b[0m\n",
      "\u001b[1;31mBoxKeyError\u001b[0m: \"'Box' object has no attribute 'test_data'\""
     ]
    }
   ],
   "source": [
    "configs = ConfigurationManager()\n",
    "eval_configs =configs.get_evaluation_config()\n",
    "eval_ob = Evaluation()\n",
    "eval_ob.evaluate()"
   ]
  },
  {
   "cell_type": "code",
   "execution_count": 9,
   "metadata": {},
   "outputs": [],
   "source": [
    "cluster_model = load_model('cluster_model',os.path.join('Training','models'))"
   ]
  },
  {
   "cell_type": "code",
   "execution_count": 10,
   "metadata": {},
   "outputs": [
    {
     "name": "stdout",
     "output_type": "stream",
     "text": [
      "[2023-11-17 10:38:12,430: INFO: common: yaml file: config/config.yml loaded successfully]\n"
     ]
    }
   ],
   "source": [
    "config= read_yaml('config/config.yml')"
   ]
  },
  {
   "cell_type": "code",
   "execution_count": 21,
   "metadata": {},
   "outputs": [],
   "source": [
    "X_test = pd.read_csv(Path(os.path.join(config.evaluation.test_data,'test_data_features.csv')))\n",
    "scaler = StandardScaler()\n",
    "X_test_scaled = pd.DataFrame(scaler.fit_transform(X_test),columns=X_test.columns,index=X_test.index)"
   ]
  },
  {
   "cell_type": "code",
   "execution_count": 20,
   "metadata": {},
   "outputs": [],
   "source": [
    "import pandas as pd\n",
    "from pathlib import Path\n",
    "from sklearn.preprocessing import StandardScaler"
   ]
  },
  {
   "cell_type": "code",
   "execution_count": 22,
   "metadata": {},
   "outputs": [
    {
     "name": "stderr",
     "output_type": "stream",
     "text": [
      "c:\\Users\\gagan\\Anaconda3\\envs\\cementnew\\lib\\site-packages\\sklearn\\base.py:458: UserWarning: X has feature names, but KMeans was fitted without feature names\n",
      "  warnings.warn(\n"
     ]
    }
   ],
   "source": [
    "pred = cluster_model.predict(X_test_scaled)"
   ]
  },
  {
   "cell_type": "code",
   "execution_count": 42,
   "metadata": {},
   "outputs": [],
   "source": [
    "X_test_scaled['cluster'] = pd.Series(pred, index=X_test_scaled.index) #cluster column added\n",
    "dfs=[X_test_scaled[X_test_scaled['cluster']==i] for i in range(len(set(pred)))]\n",
    "for i in range(len(dfs)):\n",
    "    dfs[i] = dfs[i].drop(columns='cluster')"
   ]
  },
  {
   "cell_type": "code",
   "execution_count": 33,
   "metadata": {},
   "outputs": [],
   "source": [
    "y_test = pd.read_csv(os.path.join(config.evaluation.test_data,'test_data_labels.csv'))\n",
    "y_clusterwise = [y_test.loc[dfs[i].index] for i in range(len(dfs))]"
   ]
  },
  {
   "cell_type": "code",
   "execution_count": 75,
   "metadata": {},
   "outputs": [
    {
     "data": {
      "text/html": [
       "<div>\n",
       "<style scoped>\n",
       "    .dataframe tbody tr th:only-of-type {\n",
       "        vertical-align: middle;\n",
       "    }\n",
       "\n",
       "    .dataframe tbody tr th {\n",
       "        vertical-align: top;\n",
       "    }\n",
       "\n",
       "    .dataframe thead th {\n",
       "        text-align: right;\n",
       "    }\n",
       "</style>\n",
       "<table border=\"1\" class=\"dataframe\">\n",
       "  <thead>\n",
       "    <tr style=\"text-align: right;\">\n",
       "      <th></th>\n",
       "      <th>Concrete_compressive _strength</th>\n",
       "    </tr>\n",
       "  </thead>\n",
       "  <tbody>\n",
       "    <tr>\n",
       "      <th>0</th>\n",
       "      <td>3.877017</td>\n",
       "    </tr>\n",
       "    <tr>\n",
       "      <th>13</th>\n",
       "      <td>3.538057</td>\n",
       "    </tr>\n",
       "    <tr>\n",
       "      <th>16</th>\n",
       "      <td>4.360548</td>\n",
       "    </tr>\n",
       "    <tr>\n",
       "      <th>24</th>\n",
       "      <td>3.873282</td>\n",
       "    </tr>\n",
       "    <tr>\n",
       "      <th>28</th>\n",
       "      <td>3.812865</td>\n",
       "    </tr>\n",
       "  </tbody>\n",
       "</table>\n",
       "</div>"
      ],
      "text/plain": [
       "    Concrete_compressive _strength\n",
       "0                         3.877017\n",
       "13                        3.538057\n",
       "16                        4.360548\n",
       "24                        3.873282\n",
       "28                        3.812865"
      ]
     },
     "execution_count": 75,
     "metadata": {},
     "output_type": "execute_result"
    }
   ],
   "source": [
    "y_clusterwise[3].head()"
   ]
  },
  {
   "cell_type": "code",
   "execution_count": 76,
   "metadata": {},
   "outputs": [
    {
     "data": {
      "text/html": [
       "<div>\n",
       "<style scoped>\n",
       "    .dataframe tbody tr th:only-of-type {\n",
       "        vertical-align: middle;\n",
       "    }\n",
       "\n",
       "    .dataframe tbody tr th {\n",
       "        vertical-align: top;\n",
       "    }\n",
       "\n",
       "    .dataframe thead th {\n",
       "        text-align: right;\n",
       "    }\n",
       "</style>\n",
       "<table border=\"1\" class=\"dataframe\">\n",
       "  <thead>\n",
       "    <tr style=\"text-align: right;\">\n",
       "      <th></th>\n",
       "      <th>Cement _component_1</th>\n",
       "      <th>Blast Furnace Slag _component_2</th>\n",
       "      <th>Fly Ash _component_3</th>\n",
       "      <th>Water_component_4</th>\n",
       "      <th>Superplasticizer_component_5</th>\n",
       "      <th>Coarse Aggregate_component_6</th>\n",
       "      <th>Fine Aggregate_component_7</th>\n",
       "      <th>Age_day</th>\n",
       "    </tr>\n",
       "  </thead>\n",
       "  <tbody>\n",
       "    <tr>\n",
       "      <th>0</th>\n",
       "      <td>0.657388</td>\n",
       "      <td>0.079498</td>\n",
       "      <td>1.266035</td>\n",
       "      <td>-0.687001</td>\n",
       "      <td>1.306533</td>\n",
       "      <td>0.315173</td>\n",
       "      <td>-1.561610</td>\n",
       "      <td>0.315827</td>\n",
       "    </tr>\n",
       "    <tr>\n",
       "      <th>13</th>\n",
       "      <td>0.542398</td>\n",
       "      <td>1.085835</td>\n",
       "      <td>-0.880996</td>\n",
       "      <td>-1.357701</td>\n",
       "      <td>1.118830</td>\n",
       "      <td>-1.609514</td>\n",
       "      <td>1.338583</td>\n",
       "      <td>-1.071722</td>\n",
       "    </tr>\n",
       "    <tr>\n",
       "      <th>16</th>\n",
       "      <td>0.882137</td>\n",
       "      <td>1.037855</td>\n",
       "      <td>-0.880996</td>\n",
       "      <td>-0.808163</td>\n",
       "      <td>0.946364</td>\n",
       "      <td>-0.337099</td>\n",
       "      <td>-0.135159</td>\n",
       "      <td>1.043893</td>\n",
       "    </tr>\n",
       "    <tr>\n",
       "      <th>24</th>\n",
       "      <td>1.002385</td>\n",
       "      <td>0.946585</td>\n",
       "      <td>-0.880996</td>\n",
       "      <td>-1.468986</td>\n",
       "      <td>1.207180</td>\n",
       "      <td>1.919158</td>\n",
       "      <td>-2.283888</td>\n",
       "      <td>-1.071722</td>\n",
       "    </tr>\n",
       "    <tr>\n",
       "      <th>28</th>\n",
       "      <td>0.165930</td>\n",
       "      <td>0.838366</td>\n",
       "      <td>1.019450</td>\n",
       "      <td>0.009608</td>\n",
       "      <td>0.732144</td>\n",
       "      <td>-1.351693</td>\n",
       "      <td>0.023246</td>\n",
       "      <td>0.315827</td>\n",
       "    </tr>\n",
       "  </tbody>\n",
       "</table>\n",
       "</div>"
      ],
      "text/plain": [
       "    Cement _component_1  Blast Furnace Slag _component_2  \\\n",
       "0              0.657388                         0.079498   \n",
       "13             0.542398                         1.085835   \n",
       "16             0.882137                         1.037855   \n",
       "24             1.002385                         0.946585   \n",
       "28             0.165930                         0.838366   \n",
       "\n",
       "    Fly Ash _component_3  Water_component_4  Superplasticizer_component_5  \\\n",
       "0               1.266035          -0.687001                      1.306533   \n",
       "13             -0.880996          -1.357701                      1.118830   \n",
       "16             -0.880996          -0.808163                      0.946364   \n",
       "24             -0.880996          -1.468986                      1.207180   \n",
       "28              1.019450           0.009608                      0.732144   \n",
       "\n",
       "    Coarse Aggregate_component_6  Fine Aggregate_component_7   Age_day  \n",
       "0                       0.315173                   -1.561610  0.315827  \n",
       "13                     -1.609514                    1.338583 -1.071722  \n",
       "16                     -0.337099                   -0.135159  1.043893  \n",
       "24                      1.919158                   -2.283888 -1.071722  \n",
       "28                     -1.351693                    0.023246  0.315827  "
      ]
     },
     "execution_count": 76,
     "metadata": {},
     "output_type": "execute_result"
    }
   ],
   "source": [
    "dfs[3].head()"
   ]
  },
  {
   "cell_type": "code",
   "execution_count": 38,
   "metadata": {},
   "outputs": [],
   "source": [
    "cluster0_model = load_model('random_model_cluster0',os.path.join('Training','models'))\n",
    "cluster1_model = load_model('random_model_cluster1',os.path.join('Training','models'))\n",
    "cluster2_model = load_model('random_model_cluster2',os.path.join('Training','models'))\n",
    "cluster3_model = load_model('random_model_cluster3',os.path.join('Training','models'))"
   ]
  },
  {
   "cell_type": "code",
   "execution_count": 39,
   "metadata": {},
   "outputs": [],
   "source": [
    "from sklearn.metrics import r2_score"
   ]
  },
  {
   "cell_type": "code",
   "execution_count": 64,
   "metadata": {},
   "outputs": [],
   "source": [
    "prediction_cluster_1 = cluster1_model.predict(dfs[1])"
   ]
  },
  {
   "cell_type": "code",
   "execution_count": 65,
   "metadata": {},
   "outputs": [],
   "source": [
    "score_cluster_3 = r2_score(y_clusterwise[1],prediction_cluster_1)"
   ]
  },
  {
   "cell_type": "code",
   "execution_count": 66,
   "metadata": {},
   "outputs": [
    {
     "data": {
      "text/plain": [
       "0.8080273445506383"
      ]
     },
     "execution_count": 66,
     "metadata": {},
     "output_type": "execute_result"
    }
   ],
   "source": [
    "score_cluster_3"
   ]
  },
  {
   "cell_type": "code",
   "execution_count": 67,
   "metadata": {},
   "outputs": [],
   "source": [
    "prediction_cluster_0 = cluster0_model.predict(dfs[0])\n",
    "score_cluster_0 = r2_score(y_clusterwise[0],prediction_cluster_0)\n",
    "prediction_cluster_1 = cluster1_model.predict(dfs[1])\n",
    "score_cluster_1 = r2_score(y_clusterwise[1],prediction_cluster_1)\n",
    "prediction_cluster_2 = cluster2_model.predict(dfs[2])\n",
    "score_cluster_2 = r2_score(y_clusterwise[2],prediction_cluster_2)\n",
    "prediction_cluster_3 = cluster3_model.predict(dfs[3])\n",
    "score_cluster_3 = r2_score(y_clusterwise[3],prediction_cluster_3)\n",
    "    "
   ]
  },
  {
   "cell_type": "code",
   "execution_count": 68,
   "metadata": {},
   "outputs": [
    {
     "data": {
      "text/plain": [
       "0.8307809215060173"
      ]
     },
     "execution_count": 68,
     "metadata": {},
     "output_type": "execute_result"
    }
   ],
   "source": [
    "score_cluster_0"
   ]
  },
  {
   "cell_type": "code",
   "execution_count": 69,
   "metadata": {},
   "outputs": [
    {
     "data": {
      "text/plain": [
       "0.8080273445506383"
      ]
     },
     "execution_count": 69,
     "metadata": {},
     "output_type": "execute_result"
    }
   ],
   "source": [
    "score_cluster_1"
   ]
  },
  {
   "cell_type": "code",
   "execution_count": 70,
   "metadata": {},
   "outputs": [
    {
     "data": {
      "text/plain": [
       "0.9155376681551859"
      ]
     },
     "execution_count": 70,
     "metadata": {},
     "output_type": "execute_result"
    }
   ],
   "source": [
    "score_cluster_2"
   ]
  },
  {
   "cell_type": "code",
   "execution_count": 71,
   "metadata": {},
   "outputs": [
    {
     "data": {
      "text/plain": [
       "0.4224113436937028"
      ]
     },
     "execution_count": 71,
     "metadata": {},
     "output_type": "execute_result"
    }
   ],
   "source": [
    "score_cluster_3"
   ]
  },
  {
   "cell_type": "code",
   "execution_count": 81,
   "metadata": {},
   "outputs": [],
   "source": [
    "dic = {'score0':score_cluster_0,'score1':score_cluster_1,'score2':score_cluster_2,'score3':score_cluster_3}"
   ]
  },
  {
   "cell_type": "code",
   "execution_count": 82,
   "metadata": {},
   "outputs": [
    {
     "data": {
      "text/plain": [
       "{'score0': 0.8307809215060173,\n",
       " 'score1': 0.8080273445506383,\n",
       " 'score2': 0.9155376681551859,\n",
       " 'score3': 0.4224113436937028}"
      ]
     },
     "execution_count": 82,
     "metadata": {},
     "output_type": "execute_result"
    }
   ],
   "source": [
    "dic"
   ]
  },
  {
   "cell_type": "code",
   "execution_count": 83,
   "metadata": {},
   "outputs": [],
   "source": [
    "import json"
   ]
  },
  {
   "cell_type": "code",
   "execution_count": 105,
   "metadata": {},
   "outputs": [],
   "source": [
    "from CementStrength.utils import load_model"
   ]
  },
  {
   "cell_type": "code",
   "execution_count": 106,
   "metadata": {},
   "outputs": [],
   "source": [
    "save_json(path=Path(\"scores.json\"),data=dic)"
   ]
  },
  {
   "cell_type": "code",
   "execution_count": null,
   "metadata": {},
   "outputs": [],
   "source": []
  }
 ],
 "metadata": {
  "kernelspec": {
   "display_name": "cementnew",
   "language": "python",
   "name": "python3"
  },
  "language_info": {
   "codemirror_mode": {
    "name": "ipython",
    "version": 3
   },
   "file_extension": ".py",
   "mimetype": "text/x-python",
   "name": "python",
   "nbconvert_exporter": "python",
   "pygments_lexer": "ipython3",
   "version": "3.8.18"
  }
 },
 "nbformat": 4,
 "nbformat_minor": 2
}
