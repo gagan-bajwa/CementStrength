{
 "cells": [
  {
   "cell_type": "code",
   "execution_count": 1,
   "metadata": {},
   "outputs": [],
   "source": [
    "import os\n",
    "os.chdir('../')"
   ]
  },
  {
   "cell_type": "code",
   "execution_count": 3,
   "metadata": {},
   "outputs": [],
   "source": [
    "import pandas as pd\n",
    "from pathlib import Path"
   ]
  },
  {
   "cell_type": "code",
   "execution_count": 5,
   "metadata": {},
   "outputs": [],
   "source": [
    "X_test = pd.read_csv(Path('Test','data','test_data_features.csv'))"
   ]
  },
  {
   "cell_type": "code",
   "execution_count": 41,
   "metadata": {},
   "outputs": [],
   "source": [
    "input = X_test.head(1)"
   ]
  },
  {
   "cell_type": "code",
   "execution_count": 50,
   "metadata": {},
   "outputs": [],
   "source": [
    "i = X_test.iloc[:1]"
   ]
  },
  {
   "cell_type": "code",
   "execution_count": 54,
   "metadata": {},
   "outputs": [
    {
     "data": {
      "text/plain": [
       "Index(['Cement _component_1', 'Blast Furnace Slag _component_2',\n",
       "       'Fly Ash _component_3', 'Water_component_4',\n",
       "       'Superplasticizer_component_5', 'Coarse Aggregate_component_6',\n",
       "       'Fine Aggregate_component_7', 'Age_day'],\n",
       "      dtype='object')"
      ]
     },
     "execution_count": 54,
     "metadata": {},
     "output_type": "execute_result"
    }
   ],
   "source": [
    "X_test.columns"
   ]
  },
  {
   "cell_type": "code",
   "execution_count": 42,
   "metadata": {},
   "outputs": [
    {
     "data": {
      "text/html": [
       "<div>\n",
       "<style scoped>\n",
       "    .dataframe tbody tr th:only-of-type {\n",
       "        vertical-align: middle;\n",
       "    }\n",
       "\n",
       "    .dataframe tbody tr th {\n",
       "        vertical-align: top;\n",
       "    }\n",
       "\n",
       "    .dataframe thead th {\n",
       "        text-align: right;\n",
       "    }\n",
       "</style>\n",
       "<table border=\"1\" class=\"dataframe\">\n",
       "  <thead>\n",
       "    <tr style=\"text-align: right;\">\n",
       "      <th></th>\n",
       "      <th>Cement _component_1</th>\n",
       "      <th>Blast Furnace Slag _component_2</th>\n",
       "      <th>Fly Ash _component_3</th>\n",
       "      <th>Water_component_4</th>\n",
       "      <th>Superplasticizer_component_5</th>\n",
       "      <th>Coarse Aggregate_component_6</th>\n",
       "      <th>Fine Aggregate_component_7</th>\n",
       "      <th>Age_day</th>\n",
       "    </tr>\n",
       "  </thead>\n",
       "  <tbody>\n",
       "    <tr>\n",
       "      <th>0</th>\n",
       "      <td>5.811141</td>\n",
       "      <td>2.917771</td>\n",
       "      <td>5.099866</td>\n",
       "      <td>5.123964</td>\n",
       "      <td>2.939162</td>\n",
       "      <td>6.904751</td>\n",
       "      <td>6.481577</td>\n",
       "      <td>3.367296</td>\n",
       "    </tr>\n",
       "  </tbody>\n",
       "</table>\n",
       "</div>"
      ],
      "text/plain": [
       "   Cement _component_1  Blast Furnace Slag _component_2  Fly Ash _component_3  \\\n",
       "0             5.811141                         2.917771              5.099866   \n",
       "\n",
       "   Water_component_4  Superplasticizer_component_5  \\\n",
       "0           5.123964                      2.939162   \n",
       "\n",
       "   Coarse Aggregate_component_6  Fine Aggregate_component_7   Age_day  \n",
       "0                      6.904751                    6.481577  3.367296  "
      ]
     },
     "execution_count": 42,
     "metadata": {},
     "output_type": "execute_result"
    }
   ],
   "source": [
    "input"
   ]
  },
  {
   "cell_type": "code",
   "execution_count": 37,
   "metadata": {},
   "outputs": [],
   "source": [
    "input = pd.DataFrame(data=input,columns=X_test.columns)"
   ]
  },
  {
   "cell_type": "code",
   "execution_count": 38,
   "metadata": {},
   "outputs": [
    {
     "data": {
      "text/html": [
       "<div>\n",
       "<style scoped>\n",
       "    .dataframe tbody tr th:only-of-type {\n",
       "        vertical-align: middle;\n",
       "    }\n",
       "\n",
       "    .dataframe tbody tr th {\n",
       "        vertical-align: top;\n",
       "    }\n",
       "\n",
       "    .dataframe thead th {\n",
       "        text-align: right;\n",
       "    }\n",
       "</style>\n",
       "<table border=\"1\" class=\"dataframe\">\n",
       "  <thead>\n",
       "    <tr style=\"text-align: right;\">\n",
       "      <th></th>\n",
       "      <th>Cement _component_1</th>\n",
       "      <th>Blast Furnace Slag _component_2</th>\n",
       "      <th>Fly Ash _component_3</th>\n",
       "      <th>Water_component_4</th>\n",
       "      <th>Superplasticizer_component_5</th>\n",
       "      <th>Coarse Aggregate_component_6</th>\n",
       "      <th>Fine Aggregate_component_7</th>\n",
       "      <th>Age_day</th>\n",
       "    </tr>\n",
       "  </thead>\n",
       "  <tbody>\n",
       "  </tbody>\n",
       "</table>\n",
       "</div>"
      ],
      "text/plain": [
       "Empty DataFrame\n",
       "Columns: [Cement _component_1, Blast Furnace Slag _component_2, Fly Ash _component_3, Water_component_4, Superplasticizer_component_5, Coarse Aggregate_component_6, Fine Aggregate_component_7, Age_day]\n",
       "Index: []"
      ]
     },
     "execution_count": 38,
     "metadata": {},
     "output_type": "execute_result"
    }
   ],
   "source": [
    "input"
   ]
  },
  {
   "cell_type": "code",
   "execution_count": 12,
   "metadata": {},
   "outputs": [],
   "source": [
    "from CementStrength.utils import load_model"
   ]
  },
  {
   "cell_type": "code",
   "execution_count": 13,
   "metadata": {},
   "outputs": [],
   "source": [
    "cluster_model = load_model('cluster_model',os.path.join('Training','models'))\n",
    "cluster0_model = load_model('random_model_cluster0',os.path.join('Training','models'))\n",
    "cluster1_model = load_model('random_model_cluster1',os.path.join('Training','models'))\n",
    "cluster2_model = load_model('random_model_cluster2',os.path.join('Training','models'))\n",
    "cluster3_model = load_model('random_model_cluster3',os.path.join('Training','models'))"
   ]
  },
  {
   "cell_type": "code",
   "execution_count": 52,
   "metadata": {},
   "outputs": [
    {
     "name": "stderr",
     "output_type": "stream",
     "text": [
      "c:\\Users\\gagan\\Anaconda3\\envs\\cementnew\\lib\\site-packages\\sklearn\\base.py:465: UserWarning: X does not have valid feature names, but RandomForestRegressor was fitted with feature names\n",
      "  warnings.warn(\n"
     ]
    }
   ],
   "source": [
    "from sklearn.preprocessing import StandardScaler\n",
    "scaler = StandardScaler()\n",
    "input_scaled = scaler.fit_transform(i)\n",
    "cluster_prediction = cluster_model.predict(input_scaled)\n",
    "if cluster_prediction == 0:\n",
    "    final_prediction = cluster0_model.predict(input_scaled)\n",
    "elif cluster_prediction == 1:\n",
    "    final_prediction = cluster1_model.predict(input_scaled)\n",
    "elif cluster_prediction == 2:\n",
    "    final_prediction = cluster2_model.predict(input_scaled)\n",
    "else:\n",
    "    final_prediction = cluster3_model.predict(input_scaled)\n",
    "\n",
    "\n",
    "\n",
    "\n",
    "\n"
   ]
  },
  {
   "cell_type": "code",
   "execution_count": 53,
   "metadata": {},
   "outputs": [
    {
     "data": {
      "text/plain": [
       "array([3.62317674])"
      ]
     },
     "execution_count": 53,
     "metadata": {},
     "output_type": "execute_result"
    }
   ],
   "source": [
    "final_prediction"
   ]
  },
  {
   "cell_type": "code",
   "execution_count": null,
   "metadata": {},
   "outputs": [],
   "source": []
  }
 ],
 "metadata": {
  "kernelspec": {
   "display_name": "cementnew",
   "language": "python",
   "name": "python3"
  },
  "language_info": {
   "codemirror_mode": {
    "name": "ipython",
    "version": 3
   },
   "file_extension": ".py",
   "mimetype": "text/x-python",
   "name": "python",
   "nbconvert_exporter": "python",
   "pygments_lexer": "ipython3",
   "version": "3.8.18"
  }
 },
 "nbformat": 4,
 "nbformat_minor": 2
}
