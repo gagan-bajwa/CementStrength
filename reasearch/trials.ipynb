{
 "cells": [
  {
   "cell_type": "code",
   "execution_count": 4,
   "metadata": {},
   "outputs": [],
   "source": [
    "import os"
   ]
  },
  {
   "cell_type": "code",
   "execution_count": 5,
   "metadata": {},
   "outputs": [],
   "source": [
    "os.chdir('../')"
   ]
  },
  {
   "cell_type": "code",
   "execution_count": 6,
   "metadata": {},
   "outputs": [
    {
     "data": {
      "text/plain": [
       "'c:\\\\Users\\\\gagan\\\\Documents\\\\projects\\\\CementStrength'"
      ]
     },
     "execution_count": 6,
     "metadata": {},
     "output_type": "execute_result"
    }
   ],
   "source": [
    "pwd"
   ]
  },
  {
   "cell_type": "code",
   "execution_count": 2,
   "metadata": {},
   "outputs": [],
   "source": [
    "from dataclasses import dataclass\n",
    "from pathlib import Path"
   ]
  },
  {
   "cell_type": "code",
   "execution_count": 7,
   "metadata": {},
   "outputs": [],
   "source": [
    "@dataclass(frozen=True)\n",
    "class DataValidationConfig:\n",
    "    source_dir: Path\n",
    "    good_dir: Path\n",
    "    bad_dir: Path"
   ]
  },
  {
   "cell_type": "code",
   "execution_count": null,
   "metadata": {},
   "outputs": [],
   "source": []
  },
  {
   "cell_type": "code",
   "execution_count": null,
   "metadata": {},
   "outputs": [],
   "source": []
  },
  {
   "cell_type": "code",
   "execution_count": null,
   "metadata": {},
   "outputs": [],
   "source": [
    "def get_data_validation_config(self) -> DataValidationConfig:\n",
    "            data_validatoin_config = DataValidationConfig(\n",
    "                source_dir: \n",
    "                good_dir: \n",
    "                bad_dir:\n",
    "                        \n",
    "                  )\n",
    "            return data_validation_config"
   ]
  },
  {
   "cell_type": "code",
   "execution_count": 8,
   "metadata": {},
   "outputs": [],
   "source": [
    "import re\n",
    "import shutil"
   ]
  },
  {
   "cell_type": "code",
   "execution_count": 9,
   "metadata": {},
   "outputs": [],
   "source": [
    "from CementStrength.utils import read_yaml,create_directories\n",
    "from CementStrength.constants import *"
   ]
  },
  {
   "cell_type": "code",
   "execution_count": 12,
   "metadata": {},
   "outputs": [
    {
     "name": "stdout",
     "output_type": "stream",
     "text": [
      "[2023-11-10 12:03:46,563: INFO: common: yaml file: config\\config.yml loaded successfully]\n"
     ]
    }
   ],
   "source": [
    "config_file = read_yaml(CONFIG_FILE_PATH)"
   ]
  },
  {
   "cell_type": "code",
   "execution_count": 10,
   "metadata": {},
   "outputs": [],
   "source": [
    "from CementStrength import logger"
   ]
  },
  {
   "cell_type": "code",
   "execution_count": 22,
   "metadata": {},
   "outputs": [
    {
     "name": "stdout",
     "output_type": "stream",
     "text": [
      "[2023-11-10 12:28:08,075: INFO: common: directory created]\n",
      "[2023-11-10 12:28:08,077: INFO: common: directory created]\n",
      "[2023-11-10 12:28:08,079: INFO: 2657052479: file already exists]\n",
      "[2023-11-10 12:28:08,080: INFO: 2657052479: file already exists]\n",
      "[2023-11-10 12:28:08,081: INFO: 2657052479: file already exists]\n"
     ]
    }
   ],
   "source": [
    "create_directories(config_file.data_validation.good_dir)\n",
    "create_directories(config_file.data_validation.bad_dir)\n",
    "\n",
    "# cement_strength_08012020_120021\n",
    "filepath = config_file.data_validation.source_dir\n",
    "pattern = r'cement_strength_\\d{8}_\\d{6}.csv'\n",
    "for file in os.listdir(filepath):\n",
    "    match = re.search(pattern, file)\n",
    "    if match:\n",
    "        if not os.path.exists(os.path.join(config_file.data_validation.good_dir, file)):\n",
    "            shutil.copy(os.path.join(config_file.data_validation.source_dir,file), config_file.data_validation.good_dir)\n",
    "        else:\n",
    "            logger.info(\"file already exists\")\n",
    "    else:\n",
    "        if not os.path.exists(os.path.join(config_file.data_validation.bad_dir, file)):\n",
    "            shutil.copy(os.path.join(config_file.data_validation.source_dir,file), config_file.data_validation.bad_dir)\n",
    "        else:\n",
    "            logger.info(\"file already exists\")    \n",
    "   "
   ]
  },
  {
   "cell_type": "code",
   "execution_count": 14,
   "metadata": {},
   "outputs": [
    {
     "data": {
      "text/plain": [
       "'artifacts/data_validation/good'"
      ]
     },
     "execution_count": 14,
     "metadata": {},
     "output_type": "execute_result"
    }
   ],
   "source": [
    "config_file.data_validation.good_dir"
   ]
  },
  {
   "cell_type": "code",
   "execution_count": 24,
   "metadata": {},
   "outputs": [],
   "source": [
    "import pandas as pd"
   ]
  },
  {
   "cell_type": "code",
   "execution_count": null,
   "metadata": {},
   "outputs": [],
   "source": []
  },
  {
   "cell_type": "code",
   "execution_count": null,
   "metadata": {},
   "outputs": [],
   "source": []
  },
  {
   "cell_type": "code",
   "execution_count": null,
   "metadata": {},
   "outputs": [],
   "source": []
  },
  {
   "cell_type": "code",
   "execution_count": 25,
   "metadata": {},
   "outputs": [],
   "source": [
    "def column_check():\n",
    "    filepath = config_file.data_validation.good_dir\n",
    "    for file in os.listdir(filepath):\n",
    "        with open(file,"
   ]
  },
  {
   "cell_type": "code",
   "execution_count": 26,
   "metadata": {},
   "outputs": [
    {
     "name": "stdout",
     "output_type": "stream",
     "text": [
      "cement_strength_08012020_120000.csv\n",
      "cement_strength_08012020_120021.csv\n"
     ]
    }
   ],
   "source": [
    "filepath = config_file.data_validation.good_dir\n",
    "for file in os.listdir(filepath):\n",
    "    print(file)"
   ]
  },
  {
   "cell_type": "code",
   "execution_count": 30,
   "metadata": {},
   "outputs": [
    {
     "name": "stdout",
     "output_type": "stream",
     "text": [
      "cement_strength_08012020_120000.csv\n",
      "(1030, 7)\n",
      "cement_strength_08012020_120021.csv\n",
      "(1030, 9)\n"
     ]
    }
   ],
   "source": [
    "\n",
    "def column_check():\n",
    "    filepath = config_file.data_validation.good_dir\n",
    "    for file in os.listdir(filepath):\n",
    "        print(file)\n",
    "        df = pd.read_csv(os.path.join(config_file.data_validation.good_dir, file))\n",
    "        if df.shape[1]!=9:\n",
    "            shutil.copy(os.path.join(config_file.data_validation.good_dir,file), config_file.data_validation.bad_dir)\n",
    "            logger.info(f\"file {file} transferrred to bad folder\")\n",
    "    logger.info(\"file check completed\")\n",
    "    "
   ]
  },
  {
   "cell_type": "code",
   "execution_count": 31,
   "metadata": {},
   "outputs": [],
   "source": [
    "df = pd.read_csv(os.path.join(config_file.data_validation.good_dir, 'cement_strength_08012020_120000.csv'))"
   ]
  },
  {
   "cell_type": "code",
   "execution_count": 33,
   "metadata": {},
   "outputs": [
    {
     "data": {
      "text/plain": [
       "7"
      ]
     },
     "execution_count": 33,
     "metadata": {},
     "output_type": "execute_result"
    }
   ],
   "source": [
    "df.shape[1]"
   ]
  },
  {
   "cell_type": "code",
   "execution_count": 3,
   "metadata": {},
   "outputs": [],
   "source": [
    "@dataclass(frozen=True)\n",
    "class DbOperationsConfig:\n",
    "    source_dir: Path\n",
    "    db_name: Path\n",
    "    training_dir: Path\n",
    "    training_file: Path"
   ]
  },
  {
   "cell_type": "code",
   "execution_count": 11,
   "metadata": {},
   "outputs": [],
   "source": [
    "class ConfigurationManager:\n",
    "    \n",
    "      def __init__(self, \n",
    "                config_file= CONFIG_FILE_PATH,\n",
    "                param_file = PARAMS_FILE_PATH):\n",
    "\n",
    "            self.config_file = read_yaml(config_file)\n",
    "            self.param_file = read_yaml(param_file)\n",
    "            create_directories(self.config_file.data_ingestion.root_dir)  \n",
    "            create_directories(self.config_file.data_validation.good_dir)\n",
    "            create_directories(self.config_file.data_validation.bad_dir)\n",
    "      \n",
    "      \n",
    "      \n",
    "      def get_db_operations_config(self) -> DbOperationsConfig:\n",
    "            db_operations_config = DbOperationsConfig(\n",
    "                  source_dir = self.config_file.db_operations.source_dir,\n",
    "                  db_name= self.config_file.db_operations.db_name,\n",
    "                  training_dir = self.config_file.db_operations.training_dir,\n",
    "                  training_file= self.config_file.db_operations.training_file   \n",
    "\n",
    "                \n",
    "                        \n",
    "                  )\n",
    "            return db_operations_config"
   ]
  },
  {
   "cell_type": "code",
   "execution_count": 12,
   "metadata": {},
   "outputs": [],
   "source": [
    "from CementStrength.entity import DbOperationsConfig\n",
    "import pandas as pd\n",
    "import csv\n",
    "import sqlite3\n",
    "import os\n",
    "from CementStrength import logger\n",
    "from CementStrength.utils import read_yaml,create_directories\n",
    "\n",
    "\n",
    "class DbOperations:\n",
    "    def __init__(self,config: DbOperationsConfig):\n",
    "        self.config = config\n",
    "        create_directories(self.config.training_dir)\n",
    "\n",
    "    def connect_to_db(self):\n",
    "        logger.info(\"Connecting to database\")\n",
    "        self.sqliteConnection = sqlite3.connect(self.config.db_name)\n",
    "        self.cursor = self.sqliteConnection.cursor()\n",
    "        logger.info(\"Connection Established\")\n",
    "    \n",
    "    def close_connection(self):\n",
    "        self.cursor.close()\n",
    "        logger.info(\"Connection Closed\")\n",
    "\n",
    "    def get_data_into_db(self):\n",
    "        logger.info(\"Getting data into database\")\n",
    "        dfs = [pd.read_csv(os.path.join(self.config.source_dir,f)) for f in  os.listdir(self.config.source_dir)]\n",
    "        result = pd.concat(dfs)\n",
    "        result.to_sql('Cement_Strength',con=self.sqliteConnection,if_exists='replace',index= False)\n",
    "        self.cursor.close()\n",
    "        logger.info(\"Data inserted\")\n",
    "    \n",
    "    def fetch_data_from_db(self):\n",
    "        logger.info(\"fetching data from DB\")\n",
    "        df_sql = pd.read_sql(sql ='select * Cement_Strength;',con = self.sqliteConnection)\n",
    "        self.cursor.close()\n",
    "        df_sql.to_csv(self.config.training_file)\n",
    "        logger.info(\"data fetched\")"
   ]
  },
  {
   "cell_type": "code",
   "execution_count": 13,
   "metadata": {},
   "outputs": [],
   "source": [
    "from CementStrength.config import ConfigurationManager\n",
    "from CementStrength.components import DbOperations\n",
    "class DbOperation_pipeline:\n",
    "    \n",
    "    def __init__(self):\n",
    "        pass\n",
    "\n",
    "    def main(self): \n",
    "      \n",
    "        db_operation_configurations = ConfigurationManager()\n",
    "        configs = db_operation_configurations.get_db_operations_config()\n",
    "        db_operation_obj = DbOperations(config = configs)\n",
    "        db_operation_obj.connect_to_db()\n",
    "        db_operation_obj.get_data_into_db()\n",
    "        db_operation_obj.fetch_data_from_db()"
   ]
  },
  {
   "cell_type": "code",
   "execution_count": 15,
   "metadata": {},
   "outputs": [
    {
     "name": "stdout",
     "output_type": "stream",
     "text": [
      "[2023-11-13 11:54:50,033: INFO: common: yaml file: config\\config.yml loaded successfully]\n",
      "[2023-11-13 11:54:50,041: INFO: common: yaml file: params.yml loaded successfully]\n",
      "[2023-11-13 11:54:50,042: INFO: common: directory created]\n",
      "[2023-11-13 11:54:50,043: INFO: common: directory created]\n"
     ]
    },
    {
     "name": "stdout",
     "output_type": "stream",
     "text": [
      "[2023-11-13 11:54:50,044: INFO: common: directory created]\n"
     ]
    },
    {
     "ename": "BoxKeyError",
     "evalue": "\"'Box' object has no attribute 'db_operations'\"",
     "output_type": "error",
     "traceback": [
      "\u001b[1;31m---------------------------------------------------------------------------\u001b[0m",
      "\u001b[1;31mKeyError\u001b[0m                                  Traceback (most recent call last)",
      "File \u001b[1;32mc:\\Users\\gagan\\Anaconda3\\envs\\cementnew\\lib\\site-packages\\box\\box.py:503\u001b[0m, in \u001b[0;36mbox.box.Box.__getitem__\u001b[1;34m()\u001b[0m\n",
      "\u001b[1;31mKeyError\u001b[0m: 'db_operations'",
      "\nThe above exception was the direct cause of the following exception:\n",
      "\u001b[1;31mBoxKeyError\u001b[0m                               Traceback (most recent call last)",
      "File \u001b[1;32mc:\\Users\\gagan\\Anaconda3\\envs\\cementnew\\lib\\site-packages\\box\\box.py:536\u001b[0m, in \u001b[0;36mbox.box.Box.__getattr__\u001b[1;34m()\u001b[0m\n",
      "File \u001b[1;32mc:\\Users\\gagan\\Anaconda3\\envs\\cementnew\\lib\\site-packages\\box\\box.py:524\u001b[0m, in \u001b[0;36mbox.box.Box.__getitem__\u001b[1;34m()\u001b[0m\n",
      "\u001b[1;31mBoxKeyError\u001b[0m: \"'db_operations'\"",
      "\nDuring handling of the above exception, another exception occurred:\n",
      "\u001b[1;31mAttributeError\u001b[0m                            Traceback (most recent call last)",
      "File \u001b[1;32mc:\\Users\\gagan\\Anaconda3\\envs\\cementnew\\lib\\site-packages\\box\\box.py:538\u001b[0m, in \u001b[0;36mbox.box.Box.__getattr__\u001b[1;34m()\u001b[0m\n",
      "\u001b[1;31mAttributeError\u001b[0m: 'Box' object has no attribute 'db_operations'",
      "\nThe above exception was the direct cause of the following exception:\n",
      "\u001b[1;31mBoxKeyError\u001b[0m                               Traceback (most recent call last)",
      "\u001b[1;32mc:\\Users\\gagan\\Documents\\projects\\CementStrength\\reasearch\\trials.ipynb Cell 28\u001b[0m line \u001b[0;36m2\n\u001b[0;32m      <a href='vscode-notebook-cell:/c%3A/Users/gagan/Documents/projects/CementStrength/reasearch/trials.ipynb#X36sZmlsZQ%3D%3D?line=0'>1</a>\u001b[0m db_operation \u001b[39m=\u001b[39m DbOperation_pipeline()\n\u001b[1;32m----> <a href='vscode-notebook-cell:/c%3A/Users/gagan/Documents/projects/CementStrength/reasearch/trials.ipynb#X36sZmlsZQ%3D%3D?line=1'>2</a>\u001b[0m db_operation\u001b[39m.\u001b[39;49mmain()\n",
      "\u001b[1;32mc:\\Users\\gagan\\Documents\\projects\\CementStrength\\reasearch\\trials.ipynb Cell 28\u001b[0m line \u001b[0;36m1\n\u001b[0;32m      <a href='vscode-notebook-cell:/c%3A/Users/gagan/Documents/projects/CementStrength/reasearch/trials.ipynb#X36sZmlsZQ%3D%3D?line=7'>8</a>\u001b[0m \u001b[39mdef\u001b[39;00m \u001b[39mmain\u001b[39m(\u001b[39mself\u001b[39m): \n\u001b[0;32m     <a href='vscode-notebook-cell:/c%3A/Users/gagan/Documents/projects/CementStrength/reasearch/trials.ipynb#X36sZmlsZQ%3D%3D?line=9'>10</a>\u001b[0m     db_operation_configurations \u001b[39m=\u001b[39m ConfigurationManager()\n\u001b[1;32m---> <a href='vscode-notebook-cell:/c%3A/Users/gagan/Documents/projects/CementStrength/reasearch/trials.ipynb#X36sZmlsZQ%3D%3D?line=10'>11</a>\u001b[0m     configs \u001b[39m=\u001b[39m db_operation_configurations\u001b[39m.\u001b[39;49mget_db_operations_config()\n\u001b[0;32m     <a href='vscode-notebook-cell:/c%3A/Users/gagan/Documents/projects/CementStrength/reasearch/trials.ipynb#X36sZmlsZQ%3D%3D?line=11'>12</a>\u001b[0m     db_operation_obj \u001b[39m=\u001b[39m DbOperations(config \u001b[39m=\u001b[39m configs)\n\u001b[0;32m     <a href='vscode-notebook-cell:/c%3A/Users/gagan/Documents/projects/CementStrength/reasearch/trials.ipynb#X36sZmlsZQ%3D%3D?line=12'>13</a>\u001b[0m     db_operation_obj\u001b[39m.\u001b[39mconnect_to_db()\n",
      "File \u001b[1;32mc:\\users\\gagan\\documents\\projects\\cementstrength\\src\\CementStrength\\config\\configuration.py:42\u001b[0m, in \u001b[0;36mConfigurationManager.get_db_operations_config\u001b[1;34m(self)\u001b[0m\n\u001b[0;32m     40\u001b[0m \u001b[39mdef\u001b[39;00m \u001b[39mget_db_operations_config\u001b[39m(\u001b[39mself\u001b[39m) \u001b[39m-\u001b[39m\u001b[39m>\u001b[39m DbOperationsConfig:\n\u001b[0;32m     41\u001b[0m       db_operations_config \u001b[39m=\u001b[39m DbOperationsConfig(\n\u001b[1;32m---> 42\u001b[0m             source_dir \u001b[39m=\u001b[39m \u001b[39mself\u001b[39;49m\u001b[39m.\u001b[39;49mconfig_file\u001b[39m.\u001b[39;49mdb_operations\u001b[39m.\u001b[39msource_dir,\n\u001b[0;32m     43\u001b[0m             db_name\u001b[39m=\u001b[39m \u001b[39mself\u001b[39m\u001b[39m.\u001b[39mconfig_file\u001b[39m.\u001b[39mdb_operations\u001b[39m.\u001b[39mdb_name,\n\u001b[0;32m     44\u001b[0m             training_dir \u001b[39m=\u001b[39m \u001b[39mself\u001b[39m\u001b[39m.\u001b[39mconfig_file\u001b[39m.\u001b[39mdb_operations\u001b[39m.\u001b[39mtraining_dir,\n\u001b[0;32m     45\u001b[0m             training_file\u001b[39m=\u001b[39m \u001b[39mself\u001b[39m\u001b[39m.\u001b[39mconfig_file\u001b[39m.\u001b[39mdb_operations\u001b[39m.\u001b[39mtraining_file   \n\u001b[0;32m     46\u001b[0m \n\u001b[0;32m     47\u001b[0m           \n\u001b[0;32m     48\u001b[0m                   \n\u001b[0;32m     49\u001b[0m             )\n\u001b[0;32m     50\u001b[0m       \u001b[39mreturn\u001b[39;00m db_operations_config\n",
      "File \u001b[1;32mc:\\Users\\gagan\\Anaconda3\\envs\\cementnew\\lib\\site-packages\\box\\box.py:552\u001b[0m, in \u001b[0;36mbox.box.Box.__getattr__\u001b[1;34m()\u001b[0m\n",
      "\u001b[1;31mBoxKeyError\u001b[0m: \"'Box' object has no attribute 'db_operations'\""
     ]
    }
   ],
   "source": [
    "db_operation = DbOperation_pipeline()\n",
    "db_operation.main()"
   ]
  },
  {
   "cell_type": "code",
   "execution_count": 28,
   "metadata": {},
   "outputs": [
    {
     "name": "stdout",
     "output_type": "stream",
     "text": [
      "[2023-11-13 12:13:12,370: INFO: common: yaml file: config/config.yml loaded successfully]\n"
     ]
    }
   ],
   "source": [
    "file = read_yaml(\"config/config.yml\")"
   ]
  },
  {
   "cell_type": "code",
   "execution_count": 24,
   "metadata": {},
   "outputs": [
    {
     "ename": "BoxKeyError",
     "evalue": "\"'Box' object has no attribute 'db_operatios'\"",
     "output_type": "error",
     "traceback": [
      "\u001b[1;31m---------------------------------------------------------------------------\u001b[0m",
      "\u001b[1;31mKeyError\u001b[0m                                  Traceback (most recent call last)",
      "File \u001b[1;32mc:\\Users\\gagan\\Anaconda3\\envs\\cementnew\\lib\\site-packages\\box\\box.py:503\u001b[0m, in \u001b[0;36mbox.box.Box.__getitem__\u001b[1;34m()\u001b[0m\n",
      "\u001b[1;31mKeyError\u001b[0m: 'db_operatios'",
      "\nThe above exception was the direct cause of the following exception:\n",
      "\u001b[1;31mBoxKeyError\u001b[0m                               Traceback (most recent call last)",
      "File \u001b[1;32mc:\\Users\\gagan\\Anaconda3\\envs\\cementnew\\lib\\site-packages\\box\\box.py:536\u001b[0m, in \u001b[0;36mbox.box.Box.__getattr__\u001b[1;34m()\u001b[0m\n",
      "File \u001b[1;32mc:\\Users\\gagan\\Anaconda3\\envs\\cementnew\\lib\\site-packages\\box\\box.py:524\u001b[0m, in \u001b[0;36mbox.box.Box.__getitem__\u001b[1;34m()\u001b[0m\n",
      "\u001b[1;31mBoxKeyError\u001b[0m: \"'db_operatios'\"",
      "\nDuring handling of the above exception, another exception occurred:\n",
      "\u001b[1;31mAttributeError\u001b[0m                            Traceback (most recent call last)",
      "File \u001b[1;32mc:\\Users\\gagan\\Anaconda3\\envs\\cementnew\\lib\\site-packages\\box\\box.py:538\u001b[0m, in \u001b[0;36mbox.box.Box.__getattr__\u001b[1;34m()\u001b[0m\n",
      "\u001b[1;31mAttributeError\u001b[0m: 'Box' object has no attribute 'db_operatios'",
      "\nThe above exception was the direct cause of the following exception:\n",
      "\u001b[1;31mBoxKeyError\u001b[0m                               Traceback (most recent call last)",
      "\u001b[1;32mc:\\Users\\gagan\\Documents\\projects\\CementStrength\\reasearch\\trials.ipynb Cell 30\u001b[0m line \u001b[0;36m1\n\u001b[1;32m----> <a href='vscode-notebook-cell:/c%3A/Users/gagan/Documents/projects/CementStrength/reasearch/trials.ipynb#X41sZmlsZQ%3D%3D?line=0'>1</a>\u001b[0m file\u001b[39m.\u001b[39;49mdb_operatios\n",
      "File \u001b[1;32mc:\\Users\\gagan\\Anaconda3\\envs\\cementnew\\lib\\site-packages\\box\\box.py:552\u001b[0m, in \u001b[0;36mbox.box.Box.__getattr__\u001b[1;34m()\u001b[0m\n",
      "\u001b[1;31mBoxKeyError\u001b[0m: \"'Box' object has no attribute 'db_operatios'\""
     ]
    }
   ],
   "source": [
    "file.db_operatios"
   ]
  },
  {
   "cell_type": "code",
   "execution_count": 25,
   "metadata": {},
   "outputs": [
    {
     "data": {
      "text/plain": [
       "'db_operatios/database/cement.db'"
      ]
     },
     "execution_count": 25,
     "metadata": {},
     "output_type": "execute_result"
    }
   ],
   "source": [
    "file.db_operations.db_name"
   ]
  },
  {
   "cell_type": "code",
   "execution_count": 26,
   "metadata": {},
   "outputs": [],
   "source": [
    "import sqlite3"
   ]
  },
  {
   "cell_type": "code",
   "execution_count": 27,
   "metadata": {},
   "outputs": [
    {
     "ename": "OperationalError",
     "evalue": "unable to open database file",
     "output_type": "error",
     "traceback": [
      "\u001b[1;31m---------------------------------------------------------------------------\u001b[0m",
      "\u001b[1;31mOperationalError\u001b[0m                          Traceback (most recent call last)",
      "\u001b[1;32mc:\\Users\\gagan\\Documents\\projects\\CementStrength\\reasearch\\trials.ipynb Cell 33\u001b[0m line \u001b[0;36m1\n\u001b[1;32m----> <a href='vscode-notebook-cell:/c%3A/Users/gagan/Documents/projects/CementStrength/reasearch/trials.ipynb#X44sZmlsZQ%3D%3D?line=0'>1</a>\u001b[0m sqliteConnection \u001b[39m=\u001b[39m sqlite3\u001b[39m.\u001b[39;49mconnect(file\u001b[39m.\u001b[39;49mdb_operations\u001b[39m.\u001b[39;49mdb_name)\n",
      "\u001b[1;31mOperationalError\u001b[0m: unable to open database file"
     ]
    }
   ],
   "source": [
    "sqliteConnection = sqlite3.connect(file.db_operations.db_name)"
   ]
  },
  {
   "cell_type": "code",
   "execution_count": null,
   "metadata": {},
   "outputs": [],
   "source": []
  }
 ],
 "metadata": {
  "kernelspec": {
   "display_name": "cementnew",
   "language": "python",
   "name": "python3"
  },
  "language_info": {
   "codemirror_mode": {
    "name": "ipython",
    "version": 3
   },
   "file_extension": ".py",
   "mimetype": "text/x-python",
   "name": "python",
   "nbconvert_exporter": "python",
   "pygments_lexer": "ipython3",
   "version": "3.8.18"
  }
 },
 "nbformat": 4,
 "nbformat_minor": 2
}
